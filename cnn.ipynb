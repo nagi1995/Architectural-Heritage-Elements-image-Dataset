{
  "nbformat": 4,
  "nbformat_minor": 0,
  "metadata": {
    "colab": {
      "name": "cnn.ipynb",
      "provenance": [],
      "toc_visible": true,
      "authorship_tag": "ABX9TyMZF2/vAQYVMPNoe32Jy4PU",
      "include_colab_link": true
    },
    "kernelspec": {
      "name": "python3",
      "display_name": "Python 3"
    },
    "accelerator": "GPU"
  },
  "cells": [
    {
      "cell_type": "markdown",
      "metadata": {
        "id": "view-in-github",
        "colab_type": "text"
      },
      "source": [
        "<a href=\"https://colab.research.google.com/github/nagi1995/Architectural-Heritage-Elements-image-Dataset/blob/main/cnn.ipynb\" target=\"_parent\"><img src=\"https://colab.research.google.com/assets/colab-badge.svg\" alt=\"Open In Colab\"/></a>"
      ]
    },
    {
      "cell_type": "code",
      "metadata": {
        "colab": {
          "base_uri": "https://localhost:8080/"
        },
        "id": "gmUqX-E-9ZKk",
        "outputId": "edee47dd-fb1e-497f-a0f3-4ddac3108ba2"
      },
      "source": [
        "import tensorflow as tf\r\n",
        "device_name = tf.test.gpu_device_name()\r\n",
        "if device_name != '/device:GPU:0':\r\n",
        "  raise SystemError('GPU device not found')\r\n",
        "print('Found GPU at: {}'.format(device_name))"
      ],
      "execution_count": 1,
      "outputs": [
        {
          "output_type": "stream",
          "text": [
            "Found GPU at: /device:GPU:0\n"
          ],
          "name": "stdout"
        }
      ]
    },
    {
      "cell_type": "code",
      "metadata": {
        "colab": {
          "base_uri": "https://localhost:8080/"
        },
        "id": "vCjvER6I9iXe",
        "outputId": "39919bb0-79c7-46f7-df30-7215245de475"
      },
      "source": [
        "from google.colab import drive\r\n",
        "drive.mount('/content/gdrive')"
      ],
      "execution_count": 2,
      "outputs": [
        {
          "output_type": "stream",
          "text": [
            "Mounted at /content/gdrive\n"
          ],
          "name": "stdout"
        }
      ]
    },
    {
      "cell_type": "code",
      "metadata": {
        "id": "N8Va0O1u9m1z"
      },
      "source": [
        "import numpy as np\r\n",
        "import os\r\n",
        "import cv2\r\n",
        "import pandas as pd\r\n",
        "from tensorflow.keras.preprocessing import image\r\n",
        "from tensorflow.keras.models import Sequential\r\n",
        "from tensorflow.keras.layers import Flatten, Dense, Dropout, Conv2D, MaxPooling2D\r\n",
        "from tensorflow.keras.activations import softmax\r\n",
        "from datetime import datetime"
      ],
      "execution_count": 15,
      "outputs": []
    },
    {
      "cell_type": "code",
      "metadata": {
        "colab": {
          "base_uri": "https://localhost:8080/"
        },
        "id": "-zhhuzBF9tBn",
        "outputId": "7e42e8d4-793b-4be2-f5cf-66948dd98417"
      },
      "source": [
        "!ln -s /content/gdrive/My\\ Drive/ /mydrive\r\n",
        "!ls /mydrive"
      ],
      "execution_count": 4,
      "outputs": [
        {
          "output_type": "stream",
          "text": [
            "'Colab Notebooks'   images      yolov4_bus_car\n",
            " downloads\t   'My Drive'   yolov4_Dog\n"
          ],
          "name": "stdout"
        }
      ]
    },
    {
      "cell_type": "code",
      "metadata": {
        "id": "Je3VDsLV9xbP"
      },
      "source": [
        "train_path = \"/mydrive/images/train\"\r\n",
        "test_path = \"/mydrive/images/test\""
      ],
      "execution_count": 5,
      "outputs": []
    },
    {
      "cell_type": "code",
      "metadata": {
        "id": "Jmv-mRlJ91wt"
      },
      "source": [
        "def return_y_categorical(df):\r\n",
        "  df.rename(columns = {0 : \"y\"}, inplace = True)\r\n",
        "  df[\"y\"] = df[\"y\"].astype(\"category\").cat.codes\r\n",
        "  return df"
      ],
      "execution_count": 6,
      "outputs": []
    },
    {
      "cell_type": "markdown",
      "metadata": {
        "id": "yteSfCsv9_rn"
      },
      "source": [
        "# **Color images** "
      ]
    },
    {
      "cell_type": "code",
      "metadata": {
        "id": "b70M0r0G96-4"
      },
      "source": [
        "def return_x_y(path):\r\n",
        "  x = []\r\n",
        "  y = []\r\n",
        "  for img_name in os.listdir(path):\r\n",
        "    #print(img_name)\r\n",
        "    img = image.load_img(path + \"/\" + img_name)\r\n",
        "    img = image.img_to_array(img)\r\n",
        "    x.append(img/255)\r\n",
        "    y.append(img_name.split(\"_\")[0])\r\n",
        "  y = return_y_categorical(pd.DataFrame(y))\r\n",
        "  return (np.array(x), np.array(y))"
      ],
      "execution_count": 7,
      "outputs": []
    },
    {
      "cell_type": "code",
      "metadata": {
        "id": "2A4fBKGTEIpR"
      },
      "source": [
        "datetime.now()"
      ],
      "execution_count": null,
      "outputs": []
    },
    {
      "cell_type": "code",
      "metadata": {
        "colab": {
          "base_uri": "https://localhost:8080/"
        },
        "id": "QUAdhXbh-NgX",
        "outputId": "a9c92632-dc26-459e-dc87-7b81b184f959"
      },
      "source": [
        "x_train, y_train = return_x_y(train_path)\r\n",
        "x_train.shape, y_train.shape"
      ],
      "execution_count": 8,
      "outputs": [
        {
          "output_type": "execute_result",
          "data": {
            "text/plain": [
              "((6141, 128, 128, 3), (6141, 1))"
            ]
          },
          "metadata": {
            "tags": []
          },
          "execution_count": 8
        }
      ]
    },
    {
      "cell_type": "code",
      "metadata": {
        "colab": {
          "base_uri": "https://localhost:8080/"
        },
        "id": "46AEFvKTEL6h",
        "outputId": "3a3b8a70-4077-4d47-b973-e864eb3042b4"
      },
      "source": [
        "datetime.now()"
      ],
      "execution_count": 16,
      "outputs": [
        {
          "output_type": "execute_result",
          "data": {
            "text/plain": [
              "datetime.datetime(2021, 1, 26, 5, 12, 41, 225402)"
            ]
          },
          "metadata": {
            "tags": []
          },
          "execution_count": 16
        }
      ]
    },
    {
      "cell_type": "code",
      "metadata": {
        "id": "-0vUqodR-Q2_"
      },
      "source": [
        "model = Sequential()\r\n",
        "\r\n",
        "model.add(Conv2D(filters = 16, kernel_size = (5, 5), activation = \"relu\", input_shape = (128, 128, 3)))\r\n",
        "model.add(MaxPooling2D(pool_size = (2, 2)))\r\n",
        "model.add(Dropout(0.25))\r\n",
        "\r\n",
        "model.add(Conv2D(filters = 32, kernel_size = (5, 5), activation = 'relu'))\r\n",
        "model.add(MaxPooling2D(pool_size = (2, 2)))\r\n",
        "model.add(Dropout(0.25))\r\n",
        "\r\n",
        "model.add(Conv2D(filters = 64, kernel_size = (5, 5), activation = \"relu\"))\r\n",
        "model.add(MaxPooling2D(pool_size = (2, 2)))\r\n",
        "model.add(Dropout(0.25))\r\n",
        "\r\n",
        "model.add(Dropout(0.25))\r\n",
        "\r\n",
        "model.add(Flatten())\r\n",
        "\r\n",
        "model.add(Dense(256, activation = 'relu'))\r\n",
        "model.add(Dropout(0.5))\r\n",
        "\r\n",
        "model.add(Dense(128, activation = 'relu'))\r\n",
        "model.add(Dropout(0.5))\r\n",
        "\r\n",
        "model.add(Dense(64, activation = 'relu'))\r\n",
        "model.add(Dropout(0.5))\r\n",
        "\r\n",
        "model.add(Dense(10, activation= softmax))"
      ],
      "execution_count": 26,
      "outputs": []
    },
    {
      "cell_type": "code",
      "metadata": {
        "id": "zb-U__3W-hqh"
      },
      "source": [
        "model.compile(optimizer = \"adam\", loss = 'sparse_categorical_crossentropy', metrics = ['accuracy'])"
      ],
      "execution_count": 27,
      "outputs": []
    },
    {
      "cell_type": "code",
      "metadata": {
        "colab": {
          "base_uri": "https://localhost:8080/"
        },
        "id": "sKr8pZ91-k8a",
        "outputId": "d8cc8acc-64df-4282-af38-5fd3585f59eb"
      },
      "source": [
        "model.summary()"
      ],
      "execution_count": 28,
      "outputs": [
        {
          "output_type": "stream",
          "text": [
            "Model: \"sequential_4\"\n",
            "_________________________________________________________________\n",
            "Layer (type)                 Output Shape              Param #   \n",
            "=================================================================\n",
            "conv2d_16 (Conv2D)           (None, 124, 124, 16)      1216      \n",
            "_________________________________________________________________\n",
            "max_pooling2d_15 (MaxPooling (None, 62, 62, 16)        0         \n",
            "_________________________________________________________________\n",
            "dropout_24 (Dropout)         (None, 62, 62, 16)        0         \n",
            "_________________________________________________________________\n",
            "conv2d_17 (Conv2D)           (None, 58, 58, 32)        12832     \n",
            "_________________________________________________________________\n",
            "max_pooling2d_16 (MaxPooling (None, 29, 29, 32)        0         \n",
            "_________________________________________________________________\n",
            "dropout_25 (Dropout)         (None, 29, 29, 32)        0         \n",
            "_________________________________________________________________\n",
            "conv2d_18 (Conv2D)           (None, 25, 25, 64)        51264     \n",
            "_________________________________________________________________\n",
            "max_pooling2d_17 (MaxPooling (None, 12, 12, 64)        0         \n",
            "_________________________________________________________________\n",
            "dropout_26 (Dropout)         (None, 12, 12, 64)        0         \n",
            "_________________________________________________________________\n",
            "dropout_27 (Dropout)         (None, 12, 12, 64)        0         \n",
            "_________________________________________________________________\n",
            "flatten_3 (Flatten)          (None, 9216)              0         \n",
            "_________________________________________________________________\n",
            "dense_12 (Dense)             (None, 256)               2359552   \n",
            "_________________________________________________________________\n",
            "dropout_28 (Dropout)         (None, 256)               0         \n",
            "_________________________________________________________________\n",
            "dense_13 (Dense)             (None, 128)               32896     \n",
            "_________________________________________________________________\n",
            "dropout_29 (Dropout)         (None, 128)               0         \n",
            "_________________________________________________________________\n",
            "dense_14 (Dense)             (None, 64)                8256      \n",
            "_________________________________________________________________\n",
            "dropout_30 (Dropout)         (None, 64)                0         \n",
            "_________________________________________________________________\n",
            "dense_15 (Dense)             (None, 10)                650       \n",
            "=================================================================\n",
            "Total params: 2,466,666\n",
            "Trainable params: 2,466,666\n",
            "Non-trainable params: 0\n",
            "_________________________________________________________________\n"
          ],
          "name": "stdout"
        }
      ]
    },
    {
      "cell_type": "code",
      "metadata": {
        "colab": {
          "base_uri": "https://localhost:8080/"
        },
        "id": "Tz_wcLOGEVhA",
        "outputId": "bcabec3c-f025-40db-ee23-ac4ad94bdddd"
      },
      "source": [
        "datetime.now()"
      ],
      "execution_count": 29,
      "outputs": [
        {
          "output_type": "execute_result",
          "data": {
            "text/plain": [
              "datetime.datetime(2021, 1, 26, 5, 16, 13, 914355)"
            ]
          },
          "metadata": {
            "tags": []
          },
          "execution_count": 29
        }
      ]
    },
    {
      "cell_type": "code",
      "metadata": {
        "colab": {
          "base_uri": "https://localhost:8080/"
        },
        "id": "cVVgl4Ds-nQi",
        "outputId": "6a52903f-9f60-4bde-af93-94a819ffb8d8"
      },
      "source": [
        "model.fit(x_train, y_train, epochs = 50, shuffle = True)"
      ],
      "execution_count": 36,
      "outputs": [
        {
          "output_type": "stream",
          "text": [
            "Epoch 1/50\n",
            "192/192 [==============================] - 3s 14ms/step - loss: 0.3788 - accuracy: 0.8857\n",
            "Epoch 2/50\n",
            "192/192 [==============================] - 3s 14ms/step - loss: 0.3751 - accuracy: 0.8845\n",
            "Epoch 3/50\n",
            "192/192 [==============================] - 3s 14ms/step - loss: 0.3745 - accuracy: 0.8852\n",
            "Epoch 4/50\n",
            "192/192 [==============================] - 3s 14ms/step - loss: 0.3537 - accuracy: 0.8940\n",
            "Epoch 5/50\n",
            "192/192 [==============================] - 3s 14ms/step - loss: 0.3945 - accuracy: 0.8841\n",
            "Epoch 6/50\n",
            "192/192 [==============================] - 3s 14ms/step - loss: 0.3624 - accuracy: 0.8951\n",
            "Epoch 7/50\n",
            "192/192 [==============================] - 3s 14ms/step - loss: 0.3815 - accuracy: 0.8824\n",
            "Epoch 8/50\n",
            "192/192 [==============================] - 3s 14ms/step - loss: 0.3387 - accuracy: 0.9013\n",
            "Epoch 9/50\n",
            "192/192 [==============================] - 3s 14ms/step - loss: 0.3503 - accuracy: 0.8963\n",
            "Epoch 10/50\n",
            "192/192 [==============================] - 3s 14ms/step - loss: 0.3455 - accuracy: 0.9051\n",
            "Epoch 11/50\n",
            "192/192 [==============================] - 3s 13ms/step - loss: 0.3314 - accuracy: 0.9012\n",
            "Epoch 12/50\n",
            "192/192 [==============================] - 3s 14ms/step - loss: 0.3381 - accuracy: 0.8979\n",
            "Epoch 13/50\n",
            "192/192 [==============================] - 3s 14ms/step - loss: 0.2914 - accuracy: 0.9113\n",
            "Epoch 14/50\n",
            "192/192 [==============================] - 3s 14ms/step - loss: 0.3150 - accuracy: 0.9047\n",
            "Epoch 15/50\n",
            "192/192 [==============================] - 3s 14ms/step - loss: 0.2872 - accuracy: 0.9122\n",
            "Epoch 16/50\n",
            "192/192 [==============================] - 3s 14ms/step - loss: 0.3350 - accuracy: 0.9070\n",
            "Epoch 17/50\n",
            "192/192 [==============================] - 3s 14ms/step - loss: 0.2950 - accuracy: 0.9119\n",
            "Epoch 18/50\n",
            "192/192 [==============================] - 3s 14ms/step - loss: 0.2823 - accuracy: 0.9165\n",
            "Epoch 19/50\n",
            "192/192 [==============================] - 3s 14ms/step - loss: 0.3191 - accuracy: 0.9062\n",
            "Epoch 20/50\n",
            "192/192 [==============================] - 3s 14ms/step - loss: 0.2841 - accuracy: 0.9130\n",
            "Epoch 21/50\n",
            "192/192 [==============================] - 3s 13ms/step - loss: 0.3047 - accuracy: 0.9127\n",
            "Epoch 22/50\n",
            "192/192 [==============================] - 3s 14ms/step - loss: 0.2611 - accuracy: 0.9231\n",
            "Epoch 23/50\n",
            "192/192 [==============================] - 3s 13ms/step - loss: 0.2901 - accuracy: 0.9223\n",
            "Epoch 24/50\n",
            "192/192 [==============================] - 3s 14ms/step - loss: 0.3312 - accuracy: 0.9104\n",
            "Epoch 25/50\n",
            "192/192 [==============================] - 3s 14ms/step - loss: 0.2509 - accuracy: 0.9285\n",
            "Epoch 26/50\n",
            "192/192 [==============================] - 3s 13ms/step - loss: 0.2895 - accuracy: 0.9170\n",
            "Epoch 27/50\n",
            "192/192 [==============================] - 3s 14ms/step - loss: 0.2373 - accuracy: 0.9306\n",
            "Epoch 28/50\n",
            "192/192 [==============================] - 3s 14ms/step - loss: 0.2640 - accuracy: 0.9269\n",
            "Epoch 29/50\n",
            "192/192 [==============================] - 3s 14ms/step - loss: 0.2314 - accuracy: 0.9310\n",
            "Epoch 30/50\n",
            "192/192 [==============================] - 3s 14ms/step - loss: 0.2769 - accuracy: 0.9223\n",
            "Epoch 31/50\n",
            "192/192 [==============================] - 3s 14ms/step - loss: 0.2581 - accuracy: 0.9295\n",
            "Epoch 32/50\n",
            "192/192 [==============================] - 3s 14ms/step - loss: 0.2442 - accuracy: 0.9314\n",
            "Epoch 33/50\n",
            "192/192 [==============================] - 3s 14ms/step - loss: 0.2239 - accuracy: 0.9323\n",
            "Epoch 34/50\n",
            "192/192 [==============================] - 3s 14ms/step - loss: 0.2153 - accuracy: 0.9345\n",
            "Epoch 35/50\n",
            "192/192 [==============================] - 3s 14ms/step - loss: 0.2304 - accuracy: 0.9347\n",
            "Epoch 36/50\n",
            "192/192 [==============================] - 3s 14ms/step - loss: 0.2360 - accuracy: 0.9357\n",
            "Epoch 37/50\n",
            "192/192 [==============================] - 3s 14ms/step - loss: 0.2296 - accuracy: 0.9367\n",
            "Epoch 38/50\n",
            "192/192 [==============================] - 3s 14ms/step - loss: 0.2492 - accuracy: 0.9323\n",
            "Epoch 39/50\n",
            "192/192 [==============================] - 3s 14ms/step - loss: 0.2151 - accuracy: 0.9373\n",
            "Epoch 40/50\n",
            "192/192 [==============================] - 3s 14ms/step - loss: 0.2403 - accuracy: 0.9373\n",
            "Epoch 41/50\n",
            "192/192 [==============================] - 3s 14ms/step - loss: 0.2651 - accuracy: 0.9300\n",
            "Epoch 42/50\n",
            "192/192 [==============================] - 3s 14ms/step - loss: 0.2399 - accuracy: 0.9319\n",
            "Epoch 43/50\n",
            "192/192 [==============================] - 3s 14ms/step - loss: 0.2413 - accuracy: 0.9393\n",
            "Epoch 44/50\n",
            "192/192 [==============================] - 3s 14ms/step - loss: 0.1946 - accuracy: 0.9446\n",
            "Epoch 45/50\n",
            "192/192 [==============================] - 3s 13ms/step - loss: 0.2143 - accuracy: 0.9375\n",
            "Epoch 46/50\n",
            "192/192 [==============================] - 3s 14ms/step - loss: 0.1918 - accuracy: 0.9468\n",
            "Epoch 47/50\n",
            "192/192 [==============================] - 3s 14ms/step - loss: 0.2485 - accuracy: 0.9344\n",
            "Epoch 48/50\n",
            "192/192 [==============================] - 3s 13ms/step - loss: 0.2081 - accuracy: 0.9438\n",
            "Epoch 49/50\n",
            "192/192 [==============================] - 3s 14ms/step - loss: 0.1984 - accuracy: 0.9451\n",
            "Epoch 50/50\n",
            "192/192 [==============================] - 3s 14ms/step - loss: 0.1720 - accuracy: 0.9505\n"
          ],
          "name": "stdout"
        },
        {
          "output_type": "execute_result",
          "data": {
            "text/plain": [
              "<tensorflow.python.keras.callbacks.History at 0x7f80185030b8>"
            ]
          },
          "metadata": {
            "tags": []
          },
          "execution_count": 36
        }
      ]
    },
    {
      "cell_type": "code",
      "metadata": {
        "colab": {
          "base_uri": "https://localhost:8080/"
        },
        "id": "8sgC6NoOEWoH",
        "outputId": "623d5b86-1293-4210-d782-f0475bd37f4e"
      },
      "source": [
        "datetime.now()"
      ],
      "execution_count": 31,
      "outputs": [
        {
          "output_type": "execute_result",
          "data": {
            "text/plain": [
              "datetime.datetime(2021, 1, 26, 5, 16, 41, 454740)"
            ]
          },
          "metadata": {
            "tags": []
          },
          "execution_count": 31
        }
      ]
    },
    {
      "cell_type": "code",
      "metadata": {
        "id": "WOdWHTKm-uDn"
      },
      "source": [
        "model.save(\"/mydrive/ann_color.h5\")"
      ],
      "execution_count": 38,
      "outputs": []
    },
    {
      "cell_type": "code",
      "metadata": {
        "id": "cUgqbxOxI0g-"
      },
      "source": [
        "from tensorflow.keras.models import load_model"
      ],
      "execution_count": 39,
      "outputs": []
    },
    {
      "cell_type": "code",
      "metadata": {
        "id": "oVO3MvUiI9dX"
      },
      "source": [
        "model = load_model(\"/mydrive/ann_color.h5\")"
      ],
      "execution_count": 41,
      "outputs": []
    },
    {
      "cell_type": "code",
      "metadata": {
        "id": "WEdRdtxlKLP_"
      },
      "source": [
        "datetime.now()"
      ],
      "execution_count": null,
      "outputs": []
    },
    {
      "cell_type": "code",
      "metadata": {
        "colab": {
          "base_uri": "https://localhost:8080/"
        },
        "id": "6uQkXfb4JH-a",
        "outputId": "5b0e9876-eabf-4dbd-b2f5-75099c652c00"
      },
      "source": [
        "x_test, y_test = return_x_y(test_path)\r\n",
        "x_test.shape, y_test.shape"
      ],
      "execution_count": 42,
      "outputs": [
        {
          "output_type": "execute_result",
          "data": {
            "text/plain": [
              "((4094, 128, 128, 3), (4094, 1))"
            ]
          },
          "metadata": {
            "tags": []
          },
          "execution_count": 42
        }
      ]
    },
    {
      "cell_type": "code",
      "metadata": {
        "id": "ugS5PhyDKMSo"
      },
      "source": [
        "datetime.now()"
      ],
      "execution_count": null,
      "outputs": []
    },
    {
      "cell_type": "code",
      "metadata": {
        "colab": {
          "base_uri": "https://localhost:8080/"
        },
        "id": "o02ceCYzJXFB",
        "outputId": "1e26e25c-41b0-4400-8667-1dd971391458"
      },
      "source": [
        "model.evaluate(x_test, y_test)"
      ],
      "execution_count": 43,
      "outputs": [
        {
          "output_type": "stream",
          "text": [
            "128/128 [==============================] - 1s 7ms/step - loss: 1.2808 - accuracy: 0.7567\n"
          ],
          "name": "stdout"
        },
        {
          "output_type": "execute_result",
          "data": {
            "text/plain": [
              "[1.2807539701461792, 0.7567171454429626]"
            ]
          },
          "metadata": {
            "tags": []
          },
          "execution_count": 43
        }
      ]
    },
    {
      "cell_type": "code",
      "metadata": {
        "id": "Ysldj4FNJy5X"
      },
      "source": [
        ""
      ],
      "execution_count": null,
      "outputs": []
    }
  ]
}
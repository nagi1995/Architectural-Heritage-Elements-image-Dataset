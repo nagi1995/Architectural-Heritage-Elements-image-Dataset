{
 "cells": [
  {
   "cell_type": "markdown",
   "metadata": {},
   "source": [
    "## dataset [link](https://old.datahub.io/dataset/architectural-heritage-elements-image-dataset)"
   ]
  },
  {
   "cell_type": "code",
   "execution_count": 1,
   "metadata": {},
   "outputs": [],
   "source": [
    "import os\n",
    "import shutil\n",
    "import random"
   ]
  },
  {
   "cell_type": "code",
   "execution_count": 2,
   "metadata": {},
   "outputs": [
    {
     "data": {
      "text/plain": [
       "['altar',\n",
       " 'apse',\n",
       " 'bell_tower',\n",
       " 'column',\n",
       " 'dome(inner)',\n",
       " 'dome(outer)',\n",
       " 'flying_buttress',\n",
       " 'gargoyle',\n",
       " 'stained_glass',\n",
       " 'vault']"
      ]
     },
     "execution_count": 2,
     "metadata": {},
     "output_type": "execute_result"
    }
   ],
   "source": [
    "dataset_path = \"data\"\n",
    "os.listdir(dataset_path)"
   ]
  },
  {
   "cell_type": "code",
   "execution_count": 5,
   "metadata": {},
   "outputs": [],
   "source": [
    "# renaming the images\n",
    "for folder in os.listdir(dataset_path):\n",
    "    count = 0\n",
    "    for image in os.listdir(dataset_path + \"/\" + folder):\n",
    "        #print(image, str(folder) + \"_\" + str(count))\n",
    "        count += 1\n",
    "        os.rename(dataset_path + \"/\" + folder + \"/\" + image, dataset_path + \"/\" + folder + \"/\" + str(folder) + \"_\" + str(count) + \".jpg\")\n",
    "        "
   ]
  },
  {
   "cell_type": "code",
   "execution_count": 12,
   "metadata": {},
   "outputs": [],
   "source": [
    "# making new train and test folders\n",
    "os.mkdir(\"./images\")\n",
    "os.mkdir(\"./images/train\")\n",
    "os.mkdir(\"./images/test\")"
   ]
  },
  {
   "cell_type": "code",
   "execution_count": 14,
   "metadata": {},
   "outputs": [],
   "source": [
    "# copying images from data to train folder\n",
    "for folder in os.listdir(dataset_path):\n",
    "    \n",
    "    for image in os.listdir(dataset_path + \"/\" + folder):\n",
    "        shutil.copy(dataset_path + \"/\" + folder + \"/\" + image, \"images/train/\" + image)\n",
    "        "
   ]
  },
  {
   "cell_type": "code",
   "execution_count": 2,
   "metadata": {},
   "outputs": [],
   "source": [
    "# randomly selecting 40% of images from train folder \n",
    "images = os.listdir(\"./images/train\")\n",
    "test_images = random.sample(images, int(0.4*len(images)))\n"
   ]
  },
  {
   "cell_type": "code",
   "execution_count": 3,
   "metadata": {},
   "outputs": [],
   "source": [
    "# moving the randomly selected images to test folder\n",
    "for test_image in test_images:\n",
    "    shutil.move(\"images/train/\" + test_image, \"images/test/\" + test_image)"
   ]
  },
  {
   "cell_type": "code",
   "execution_count": null,
   "metadata": {},
   "outputs": [],
   "source": []
  }
 ],
 "metadata": {
  "kernelspec": {
   "display_name": "Python 3",
   "language": "python",
   "name": "python3"
  },
  "language_info": {
   "codemirror_mode": {
    "name": "ipython",
    "version": 3
   },
   "file_extension": ".py",
   "mimetype": "text/x-python",
   "name": "python",
   "nbconvert_exporter": "python",
   "pygments_lexer": "ipython3",
   "version": "3.7.9"
  }
 },
 "nbformat": 4,
 "nbformat_minor": 4
}
